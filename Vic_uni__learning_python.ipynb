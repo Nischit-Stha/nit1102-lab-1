{
  "nbformat": 4,
  "nbformat_minor": 0,
  "metadata": {
    "colab": {
      "provenance": [],
      "authorship_tag": "ABX9TyP2QEIJRx6z3T+fUwPbMXMw",
      "include_colab_link": true
    },
    "kernelspec": {
      "name": "python3",
      "display_name": "Python 3"
    },
    "language_info": {
      "name": "python"
    }
  },
  "cells": [
    {
      "cell_type": "markdown",
      "metadata": {
        "id": "view-in-github",
        "colab_type": "text"
      },
      "source": [
        "<a href=\"https://colab.research.google.com/github/Nischit-Stha/nit1102-lab-1/blob/main/Vic_uni__learning_python.ipynb\" target=\"_parent\"><img src=\"https://colab.research.google.com/assets/colab-badge.svg\" alt=\"Open In Colab\"/></a>"
      ]
    },
    {
      "cell_type": "code",
      "execution_count": 14,
      "metadata": {
        "colab": {
          "base_uri": "https://localhost:8080/"
        },
        "id": "Cyv_oPWf_pUD",
        "outputId": "4d0755b2-45d1-4b56-b6de-5abff009e650"
      },
      "outputs": [
        {
          "output_type": "stream",
          "name": "stdout",
          "text": [
            "Enter the file name: He he.txt\n",
            "The Flesch Index is 83.32689779453098\n",
            "The Grade Level Equivalent is 5\n",
            "51 sentences\n",
            "593 words\n",
            "783 syllables\n"
          ]
        }
      ],
      "source": [
        "# day 6\n",
        "\n",
        "# Take the inputs\n",
        "fileName = input(\"Enter the file name: \")\n",
        "inputFile = open(fileName, 'r')\n",
        "text = inputFile.read()\n",
        "\n",
        "# Count the sentences\n",
        "sentences = text.count('.') + text.count('?') + \\\n",
        "            text.count(':') + text.count(';') + \\\n",
        "            text.count('!')\n",
        "\n",
        "# Count the words\n",
        "words = len(text.split())\n",
        "\n",
        "# Count the syllables\n",
        "syllables = 0\n",
        "for word in text.split():\n",
        "    for vowel in ['a', 'e', 'i', 'o', 'u']:\n",
        "        syllables += word.count(vowel)\n",
        "    for ending in ['es', 'ed', 'e']:\n",
        "        if word.endswith(ending):\n",
        "            syllables -= 1\n",
        "    if word.endswith('le'):\n",
        "        syllables += 1\n",
        "\n",
        "# Compute the Flesch Index and Grade Level\n",
        "index = 206.835 - 1.015 * (words / sentences) - \\\n",
        "        84.6 * (syllables / words)\n",
        "level = int(round(0.39 * (words / sentences) + 11.8 * \\\n",
        "        (syllables / words) - 15.59))\n",
        "\n",
        "# Output the results\n",
        "print(\"The Flesch Index is\", index)\n",
        "print(\"The Grade Level Equivalent is\", level)\n",
        "print(sentences, \"sentences\")\n",
        "print(words, \"words\")\n",
        "print(syllables, \"syllables\")\n"
      ]
    },
    {
      "cell_type": "code",
      "source": [
        "# This is how you change above code to functions\n",
        "def read_file():\n",
        "  fileName = input(\"Enter the file name: \")\n",
        "  inputFile = open(fileName, 'r')\n",
        "  text = inputFile.read()\n",
        "  return text\n",
        "\n",
        "\n",
        "def count_sentences(text):\n",
        "  sentences = text.count('.') + text.count('?') + \\\n",
        "            text.count(':') + text.count(';') + \\\n",
        "            text.count('!')\n",
        "  return sentences\n",
        "\n",
        "#count the words\n",
        "def count_words(text):\n",
        "  words = len(text.split())\n",
        "  return words\n",
        "#count the syllables\n",
        "def count_syllables(text):\n",
        "  syllables = 0\n",
        "  for word in text.split():\n",
        "    for vowel in ['a', 'e', 'i', 'o', 'u']:\n",
        "      syllables += word.count(vowel)\n",
        "    for ending in ['es', 'ed', 'e']:\n",
        "      if word.endswith(ending):\n",
        "        syllables -= 1\n",
        "    if word.endswith('le'):\n",
        "      syllables += 1\n",
        "  return syllables\n",
        "\n",
        "def main():\n",
        "  text = read_file()\n",
        "  sentences = count_sentences(text)\n",
        "  words = count_words(text)\n",
        "  syllables = count_syllables(text)\n",
        "  index = compute_index(sentences, words, syllables)\n",
        "  level = compute_level(sentences, words, syllables)\n",
        "  output_results(sentences, words, syllables, index, level)\n",
        "\n",
        "def compute_index(sentences, words, syllables):\n",
        "\n",
        "# coumpute the flesh index\n",
        "  index = 206.835 - 1.015 * (words / sentences) - \\\n",
        "        84.6 * (syllables / words)\n",
        "  return index\n",
        "\n",
        "def compute_level(sentences, words, syllables):\n",
        "  level = int(round(0.39 * (words / sentences) + 11.8 * \\\n",
        "        (syllables / words) - 15.59))\n",
        "  return level\n",
        "\n",
        "\n",
        "#output the result\n",
        "def output_results(sentences, words, syllables, index, level):\n",
        "  print(\"The Flesch Index is\", index)\n",
        "  print(\"The Grade Level Equivalent is\", level)\n",
        "  print(sentences, \"sentences\")\n",
        "  print(words, \"words\")\n",
        "  print(syllables, \"syllables\")\n",
        "\n",
        "if __name__ == \"__main__\":\n",
        "    main()"
      ],
      "metadata": {
        "colab": {
          "base_uri": "https://localhost:8080/"
        },
        "id": "pH7P1wgMBBl0",
        "outputId": "de0a5f6a-16cd-4b2b-c848-667ec540788d"
      },
      "execution_count": 19,
      "outputs": [
        {
          "output_type": "stream",
          "name": "stdout",
          "text": [
            "Enter the file name: He he.txt\n",
            "The Flesch Index is 83.32689779453098\n",
            "The Grade Level Equivalent is 5\n",
            "51 sentences\n",
            "593 words\n",
            "783 syllables\n"
          ]
        }
      ]
    },
    {
      "cell_type": "code",
      "source": [
        "#Design with recursie FUnctions\n",
        "\n",
        "def display_range(lower, upper):\n",
        "  while lower <= upper:\n",
        "    print(lower)\n",
        "    lower += 1\n",
        "\n",
        "display_range(1, 10)\n"
      ],
      "metadata": {
        "colab": {
          "base_uri": "https://localhost:8080/"
        },
        "id": "mxsLx743BShc",
        "outputId": "a3eb2169-f761-46a5-c43f-41c0b34f1c87"
      },
      "execution_count": 21,
      "outputs": [
        {
          "output_type": "stream",
          "name": "stdout",
          "text": [
            "1\n",
            "2\n",
            "3\n",
            "4\n",
            "5\n",
            "6\n",
            "7\n",
            "8\n",
            "9\n",
            "10\n"
          ]
        }
      ]
    },
    {
      "cell_type": "code",
      "source": [
        "# tracing recursive function\n",
        "def recursivesum(lower,upper,margin):\n",
        "  blank = \"\"*margin\n",
        "  print(blank, lower, upper)\n",
        "  if lower > upper:\n",
        "    print(blank, 0)\n",
        "    return 0\n",
        "  else:\n",
        "    result = lower + recursivesum(lower+1, upper, margin+4)\n",
        "    print(blank, result)\n",
        "    return result\n",
        "\n",
        "recursivesum(1, 4, 0)\n",
        ""
      ],
      "metadata": {
        "colab": {
          "base_uri": "https://localhost:8080/"
        },
        "id": "Y_K7BJSEMXlz",
        "outputId": "8804f66b-220d-45c7-ac7d-ac4530c7c7e8"
      },
      "execution_count": 23,
      "outputs": [
        {
          "output_type": "stream",
          "name": "stdout",
          "text": [
            " 1 4\n",
            " 2 4\n",
            " 3 4\n",
            " 4 4\n",
            " 5 4\n",
            " 0\n",
            " 4\n",
            " 7\n",
            " 9\n",
            " 10\n"
          ]
        },
        {
          "output_type": "execute_result",
          "data": {
            "text/plain": [
              "10"
            ]
          },
          "metadata": {},
          "execution_count": 23
        }
      ]
    },
    {
      "cell_type": "code",
      "source": [
        "# Using Recursive Definitions to construct\n",
        "#Recursive functions\n",
        "def fibonacii(n):\n",
        "  if n == 0:\n",
        "    return 0\n",
        "  elif n == 1:\n",
        "    return 1\n",
        "  else:\n",
        "    return fibonacii(n-1) + fibonacii(n-2)\n",
        "n = int(input(\"Enter number for fibonacii\"))\n",
        "fibonacii(n)"
      ],
      "metadata": {
        "colab": {
          "base_uri": "https://localhost:8080/"
        },
        "id": "IDVtlpuUOWoQ",
        "outputId": "0fb5bb22-dfac-4d73-a1e1-19b0d7855dbf"
      },
      "execution_count": 30,
      "outputs": [
        {
          "name": "stdout",
          "output_type": "stream",
          "text": [
            "Enter number for fibonacii7\n"
          ]
        },
        {
          "output_type": "execute_result",
          "data": {
            "text/plain": [
              "13"
            ]
          },
          "metadata": {},
          "execution_count": 30
        }
      ]
    },
    {
      "cell_type": "code",
      "source": [
        "#infinite recursion\n",
        "def run_forever():\n",
        "  print(\"Hello\")\n",
        "  # run_forever()  # uncomment it to fun forever\n",
        "\n",
        "\n",
        "run_forever()"
      ],
      "metadata": {
        "colab": {
          "base_uri": "https://localhost:8080/"
        },
        "id": "h-C3ASkNTEND",
        "outputId": "02dca9a3-9837-4ec4-b849-401fc866eaf0"
      },
      "execution_count": 1,
      "outputs": [
        {
          "output_type": "stream",
          "name": "stdout",
          "text": [
            "Hello\n"
          ]
        }
      ]
    },
    {
      "cell_type": "code",
      "source": [],
      "metadata": {
        "id": "7GmSekToUPAN"
      },
      "execution_count": null,
      "outputs": []
    }
  ]
}