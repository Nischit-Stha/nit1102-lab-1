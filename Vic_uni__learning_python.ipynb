{
  "nbformat": 4,
  "nbformat_minor": 0,
  "metadata": {
    "colab": {
      "provenance": [],
      "authorship_tag": "ABX9TyPv4V4KsI8W6gosw3HaSQ2b",
      "include_colab_link": true
    },
    "kernelspec": {
      "name": "python3",
      "display_name": "Python 3"
    },
    "language_info": {
      "name": "python"
    }
  },
  "cells": [
    {
      "cell_type": "markdown",
      "metadata": {
        "id": "view-in-github",
        "colab_type": "text"
      },
      "source": [
        "<a href=\"https://colab.research.google.com/github/Nischit-Stha/nit1102-lab-1/blob/main/Vic_uni__learning_python.ipynb\" target=\"_parent\"><img src=\"https://colab.research.google.com/assets/colab-badge.svg\" alt=\"Open In Colab\"/></a>"
      ]
    },
    {
      "cell_type": "code",
      "execution_count": null,
      "metadata": {
        "id": "Cyv_oPWf_pUD"
      },
      "outputs": [],
      "source": [
        "# Take the inputs\n",
        "fileName = input(\"Enter the file name: \")\n",
        "inputFile = open(fileName, 'r')\n",
        "text = inputFile.read()\n",
        "\n",
        "# Count the sentences\n",
        "sentences = text.count('.') + text.count('?') + \\\n",
        "            text.count(':') + text.count(';') + \\\n",
        "            text.count('!')\n",
        "\n",
        "# Count the words\n",
        "words = len(text.split())\n",
        "\n",
        "# Count the syllables\n",
        "syllables = 0\n",
        "for word in text.split():\n",
        "    for vowel in ['a', 'e', 'i', 'o', 'u']:\n",
        "        syllables += word.count(vowel)\n",
        "    for ending in ['es', 'ed', 'e']:\n",
        "        if word.endswith(ending):\n",
        "            syllables -= 1\n",
        "    if word.endswith('le'):\n",
        "        syllables += 1\n",
        "\n",
        "# Compute the Flesch Index and Grade Level\n",
        "index = 206.835 - 1.015 * (words / sentences) - \\\n",
        "        84.6 * (syllables / words)\n",
        "level = int(round(0.39 * (words / sentences) + 11.8 * \\\n",
        "        (syllables / words) - 15.59))\n",
        "\n",
        "# Output the results\n",
        "print(\"The Flesch Index is\", index)\n",
        "print(\"The Grade Level Equivalent is\", level)\n",
        "print(sentences, \"sentences\")\n",
        "print(words, \"words\")\n",
        "print(syllables, \"syllables\")\n"
      ]
    }
  ]
}