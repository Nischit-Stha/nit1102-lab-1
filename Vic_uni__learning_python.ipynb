{
  "nbformat": 4,
  "nbformat_minor": 0,
  "metadata": {
    "colab": {
      "provenance": [],
      "authorship_tag": "ABX9TyOID1w8aLH4hye8on726QJe",
      "include_colab_link": true
    },
    "kernelspec": {
      "name": "python3",
      "display_name": "Python 3"
    },
    "language_info": {
      "name": "python"
    }
  },
  "cells": [
    {
      "cell_type": "markdown",
      "metadata": {
        "id": "view-in-github",
        "colab_type": "text"
      },
      "source": [
        "<a href=\"https://colab.research.google.com/github/Nischit-Stha/nit1102-lab-1/blob/main/Vic_uni__learning_python.ipynb\" target=\"_parent\"><img src=\"https://colab.research.google.com/assets/colab-badge.svg\" alt=\"Open In Colab\"/></a>"
      ]
    },
    {
      "cell_type": "code",
      "execution_count": 1,
      "metadata": {
        "colab": {
          "base_uri": "https://localhost:8080/",
          "height": 356
        },
        "id": "Cyv_oPWf_pUD",
        "outputId": "c9ad8e37-a389-41c2-c860-d829b9fd6236"
      },
      "outputs": [
        {
          "output_type": "error",
          "ename": "KeyboardInterrupt",
          "evalue": "Interrupted by user",
          "traceback": [
            "\u001b[0;31m---------------------------------------------------------------------------\u001b[0m",
            "\u001b[0;31mKeyboardInterrupt\u001b[0m                         Traceback (most recent call last)",
            "\u001b[0;32m<ipython-input-1-d83a467c445e>\u001b[0m in \u001b[0;36m<cell line: 0>\u001b[0;34m()\u001b[0m\n\u001b[1;32m      1\u001b[0m \u001b[0;31m# Take the inputs\u001b[0m\u001b[0;34m\u001b[0m\u001b[0;34m\u001b[0m\u001b[0m\n\u001b[0;32m----> 2\u001b[0;31m \u001b[0mfileName\u001b[0m \u001b[0;34m=\u001b[0m \u001b[0minput\u001b[0m\u001b[0;34m(\u001b[0m\u001b[0;34m\"Enter the file name: \"\u001b[0m\u001b[0;34m)\u001b[0m\u001b[0;34m\u001b[0m\u001b[0;34m\u001b[0m\u001b[0m\n\u001b[0m\u001b[1;32m      3\u001b[0m \u001b[0minputFile\u001b[0m \u001b[0;34m=\u001b[0m \u001b[0mopen\u001b[0m\u001b[0;34m(\u001b[0m\u001b[0mfileName\u001b[0m\u001b[0;34m,\u001b[0m \u001b[0;34m'r'\u001b[0m\u001b[0;34m)\u001b[0m\u001b[0;34m\u001b[0m\u001b[0;34m\u001b[0m\u001b[0m\n\u001b[1;32m      4\u001b[0m \u001b[0mtext\u001b[0m \u001b[0;34m=\u001b[0m \u001b[0minputFile\u001b[0m\u001b[0;34m.\u001b[0m\u001b[0mread\u001b[0m\u001b[0;34m(\u001b[0m\u001b[0;34m)\u001b[0m\u001b[0;34m\u001b[0m\u001b[0;34m\u001b[0m\u001b[0m\n\u001b[1;32m      5\u001b[0m \u001b[0;34m\u001b[0m\u001b[0m\n",
            "\u001b[0;32m/usr/local/lib/python3.11/dist-packages/ipykernel/kernelbase.py\u001b[0m in \u001b[0;36mraw_input\u001b[0;34m(self, prompt)\u001b[0m\n\u001b[1;32m   1175\u001b[0m                 \u001b[0;34m\"raw_input was called, but this frontend does not support input requests.\"\u001b[0m\u001b[0;34m\u001b[0m\u001b[0;34m\u001b[0m\u001b[0m\n\u001b[1;32m   1176\u001b[0m             )\n\u001b[0;32m-> 1177\u001b[0;31m         return self._input_request(\n\u001b[0m\u001b[1;32m   1178\u001b[0m             \u001b[0mstr\u001b[0m\u001b[0;34m(\u001b[0m\u001b[0mprompt\u001b[0m\u001b[0;34m)\u001b[0m\u001b[0;34m,\u001b[0m\u001b[0;34m\u001b[0m\u001b[0;34m\u001b[0m\u001b[0m\n\u001b[1;32m   1179\u001b[0m             \u001b[0mself\u001b[0m\u001b[0;34m.\u001b[0m\u001b[0m_parent_ident\u001b[0m\u001b[0;34m[\u001b[0m\u001b[0;34m\"shell\"\u001b[0m\u001b[0;34m]\u001b[0m\u001b[0;34m,\u001b[0m\u001b[0;34m\u001b[0m\u001b[0;34m\u001b[0m\u001b[0m\n",
            "\u001b[0;32m/usr/local/lib/python3.11/dist-packages/ipykernel/kernelbase.py\u001b[0m in \u001b[0;36m_input_request\u001b[0;34m(self, prompt, ident, parent, password)\u001b[0m\n\u001b[1;32m   1217\u001b[0m             \u001b[0;32mexcept\u001b[0m \u001b[0mKeyboardInterrupt\u001b[0m\u001b[0;34m:\u001b[0m\u001b[0;34m\u001b[0m\u001b[0;34m\u001b[0m\u001b[0m\n\u001b[1;32m   1218\u001b[0m                 \u001b[0;31m# re-raise KeyboardInterrupt, to truncate traceback\u001b[0m\u001b[0;34m\u001b[0m\u001b[0;34m\u001b[0m\u001b[0m\n\u001b[0;32m-> 1219\u001b[0;31m                 \u001b[0;32mraise\u001b[0m \u001b[0mKeyboardInterrupt\u001b[0m\u001b[0;34m(\u001b[0m\u001b[0;34m\"Interrupted by user\"\u001b[0m\u001b[0;34m)\u001b[0m \u001b[0;32mfrom\u001b[0m \u001b[0;32mNone\u001b[0m\u001b[0;34m\u001b[0m\u001b[0;34m\u001b[0m\u001b[0m\n\u001b[0m\u001b[1;32m   1220\u001b[0m             \u001b[0;32mexcept\u001b[0m \u001b[0mException\u001b[0m\u001b[0;34m:\u001b[0m\u001b[0;34m\u001b[0m\u001b[0;34m\u001b[0m\u001b[0m\n\u001b[1;32m   1221\u001b[0m                 \u001b[0mself\u001b[0m\u001b[0;34m.\u001b[0m\u001b[0mlog\u001b[0m\u001b[0;34m.\u001b[0m\u001b[0mwarning\u001b[0m\u001b[0;34m(\u001b[0m\u001b[0;34m\"Invalid Message:\"\u001b[0m\u001b[0;34m,\u001b[0m \u001b[0mexc_info\u001b[0m\u001b[0;34m=\u001b[0m\u001b[0;32mTrue\u001b[0m\u001b[0;34m)\u001b[0m\u001b[0;34m\u001b[0m\u001b[0;34m\u001b[0m\u001b[0m\n",
            "\u001b[0;31mKeyboardInterrupt\u001b[0m: Interrupted by user"
          ]
        }
      ],
      "source": [
        "# Take the inputs\n",
        "fileName = input(\"Enter the file name: \")\n",
        "inputFile = open(fileName, 'r')\n",
        "text = inputFile.read()\n",
        "\n",
        "# Count the sentences\n",
        "sentences = text.count('.') + text.count('?') + \\\n",
        "            text.count(':') + text.count(';') + \\\n",
        "            text.count('!')\n",
        "\n",
        "# Count the words\n",
        "words = len(text.split())\n",
        "\n",
        "# Count the syllables\n",
        "syllables = 0\n",
        "for word in text.split():\n",
        "    for vowel in ['a', 'e', 'i', 'o', 'u']:\n",
        "        syllables += word.count(vowel)\n",
        "    for ending in ['es', 'ed', 'e']:\n",
        "        if word.endswith(ending):\n",
        "            syllables -= 1\n",
        "    if word.endswith('le'):\n",
        "        syllables += 1\n",
        "\n",
        "# Compute the Flesch Index and Grade Level\n",
        "index = 206.835 - 1.015 * (words / sentences) - \\\n",
        "        84.6 * (syllables / words)\n",
        "level = int(round(0.39 * (words / sentences) + 11.8 * \\\n",
        "        (syllables / words) - 15.59))\n",
        "\n",
        "# Output the results\n",
        "print(\"The Flesch Index is\", index)\n",
        "print(\"The Grade Level Equivalent is\", level)\n",
        "print(sentences, \"sentences\")\n",
        "print(words, \"words\")\n",
        "print(syllables, \"syllables\")\n"
      ]
    },
    {
      "cell_type": "code",
      "source": [
        "# converting it into function\n",
        "def read file():\n",
        "  fileName = input(\"Enter the file name: \")\n",
        "  inputFile = open(fileName, 'r')\n",
        "  text = inputFile.read()\n",
        "  return text\n",
        "\n",
        "def count_sentences(text):\n",
        "  sentences = text.count('.') + text.count('?') + \\\n",
        "            text.count(':') + text.count(';') + \\\n",
        "            text.count('!')\n",
        "  return sentences\n",
        "\n",
        "#count the words\n",
        "def count_words(text):\n",
        "  words = len(text.split())\n",
        "  return words\n",
        "#count the syllables\n",
        "def count_syllables(text):\n",
        "  syllables = 0\n",
        "  for word in text.split():\n",
        "    for vowel in ['a', 'e', 'i', 'o', 'u']:\n",
        "      syllables += word.count(vowel)\n",
        "    for ending in ['es', 'ed', 'e']:\n",
        "      if word.endswith(ending):\n",
        "        syllables -= 1\n",
        "    if word.endswith('le'):\n",
        "      syllables += 1\n",
        "  return syllables\n",
        "\n",
        "def main():\n",
        "  text = read_file()\n",
        "  sentences = count_sentences(text)\n",
        "  words = count_words(text)\n",
        "  syllables = count_syllables(text)"
      ],
      "metadata": {
        "id": "pH7P1wgMBBl0"
      },
      "execution_count": null,
      "outputs": []
    },
    {
      "cell_type": "code",
      "source": [],
      "metadata": {
        "id": "mxsLx743BShc"
      },
      "execution_count": null,
      "outputs": []
    }
  ]
}